{
 "cells": [
  {
   "cell_type": "markdown",
   "metadata": {},
   "source": [
    "# Identify \"cloudy transition\" Spitzer exoplanet host targets "
   ]
  },
  {
   "cell_type": "code",
   "execution_count": 2,
   "metadata": {},
   "outputs": [],
   "source": [
    "%matplotlib inline\n",
    "import matplotlib.pyplot as plt\n",
    "import numpy as np\n",
    "\n",
    "from astropy.utils.data import download_file\n",
    "from astropy.table import Table, join\n",
    "import astropy.units as u\n",
    "\n",
    "from astroquery.nasa_exoplanet_archive import NasaExoplanetArchive"
   ]
  },
  {
   "cell_type": "code",
   "execution_count": 3,
   "metadata": {},
   "outputs": [],
   "source": [
    "cold_url = 'https://irsa.ipac.caltech.edu/data/SPITZER/docs/files/spitzer/extrasolarplanets.txt'\n",
    "warm_url = 'http://ssc.spitzer.caltech.edu/warmmission/scheduling/observinglogs/extrasolarplanetsWarm.txt'"
   ]
  },
  {
   "cell_type": "code",
   "execution_count": 31,
   "metadata": {},
   "outputs": [],
   "source": [
    "start_line = 24\n",
    "cold_table = Table.read(cold_url, format='ascii.fixed_width', \n",
    "                        header_start=start_line, data_start=start_line + 3, delimiter=' ')"
   ]
  },
  {
   "cell_type": "code",
   "execution_count": 32,
   "metadata": {},
   "outputs": [],
   "source": [
    "start_line = 17\n",
    "warm_table = Table.read(warm_url, format='ascii.fixed_width', \n",
    "                        header_start=start_line, data_start=start_line + 3, delimiter=' ')"
   ]
  },
  {
   "cell_type": "code",
   "execution_count": 76,
   "metadata": {},
   "outputs": [],
   "source": [
    "all_channels = ['ch1', 'ch2', 'ch3', 'ch4']\n",
    "\n",
    "observations = dict()\n",
    "\n",
    "for table in [cold_table, warm_table]: \n",
    "    for target in table['TargetName']: \n",
    "        if '_' in target: \n",
    "            str1, str2, *rest = target.split('_')\n",
    "        elif '-' in target: \n",
    "            str1, str2, *rest = target.split('-')\n",
    "        else: \n",
    "            str1, str2, rest = target, \"\", \"\"\n",
    "            \n",
    "        if str1 in all_channels: \n",
    "            channel = str1\n",
    "            name = str2\n",
    "\n",
    "        elif str2 in all_channels: \n",
    "            channel = str2\n",
    "            name = str1\n",
    "\n",
    "        # if no string is channel, make simple planet name: \n",
    "        if str1 not in all_channels and str2 not in all_channels: \n",
    "            name = str1 + str2 + ' '.join(rest)\n",
    "\n",
    "        fixed_name = (name.upper().replace(' ', '').replace('ECL', '')\n",
    "                      .replace('EC', '').replace('CH24', '').replace('CH13', '')\n",
    "                      .replace('-', '').replace('DAR', ''))\n",
    "        \n",
    "        if fixed_name.endswith('B') or fixed_name.endswith('S') or fixed_name.endswith('C'): \n",
    "            fixed_name = fixed_name[:-1]\n",
    "            \n",
    "        if fixed_name.endswith('CH') or fixed_name.endswith('CP'): \n",
    "            fixed_name = fixed_name[:-2]\n",
    "        \n",
    "        fixed_name = fixed_name.lower()\n",
    "        \n",
    "        if fixed_name in observations: \n",
    "            observations[fixed_name].add(channel)\n",
    "        else: \n",
    "            observations[fixed_name] = {channel}"
   ]
  },
  {
   "cell_type": "code",
   "execution_count": 121,
   "metadata": {},
   "outputs": [],
   "source": [
    "obs_table = Table(names=['NAME_LOWERCASE', \"CH1\", \"CH2\"], dtype=['S832', bool, bool])\n",
    "for obs in observations: \n",
    "    row = [obs, 'ch1' in observations[obs], 'ch2' in observations[obs]]\n",
    "    obs_table.add_row(row)\n",
    "obs_table = Table(obs_table)"
   ]
  },
  {
   "cell_type": "code",
   "execution_count": 134,
   "metadata": {},
   "outputs": [],
   "source": [
    "archive = NasaExoplanetArchive.get_confirmed_planets_table(cache=False)"
   ]
  },
  {
   "cell_type": "code",
   "execution_count": 135,
   "metadata": {},
   "outputs": [],
   "source": [
    "archive['NAME_LOWERCASE'] = [target[:-1].replace('-', '') for target in archive['NAME_LOWERCASE']]"
   ]
  },
  {
   "cell_type": "code",
   "execution_count": 138,
   "metadata": {},
   "outputs": [],
   "source": [
    "observed_planets = join(archive, obs_table, join_type='inner', keys=['NAME_LOWERCASE'])"
   ]
  },
  {
   "cell_type": "code",
   "execution_count": 150,
   "metadata": {},
   "outputs": [
    {
     "name": "stderr",
     "output_type": "stream",
     "text": [
      "//anaconda3/lib/python3.7/site-packages/astropy/units/quantity.py:466: RuntimeWarning: divide by zero encountered in true_divide\n",
      "  result = super().__array_ufunc__(function, method, *arrays, **kwargs)\n",
      "//anaconda3/lib/python3.7/site-packages/astropy/units/quantity.py:466: RuntimeWarning: invalid value encountered in true_divide\n",
      "  result = super().__array_ufunc__(function, method, *arrays, **kwargs)\n"
     ]
    }
   ],
   "source": [
    "teff = observed_planets['st_teff']  # stellar effective temperature\n",
    "rstar = observed_planets['st_rad']  # stellar radius\n",
    "a = observed_planets['pl_orbsmax']  # orbital semimajor axis\n",
    "\n",
    "teq = (teff * np.sqrt(rstar / (2 * a))).decompose()"
   ]
  },
  {
   "cell_type": "code",
   "execution_count": 152,
   "metadata": {},
   "outputs": [
    {
     "name": "stdout",
     "output_type": "stream",
     "text": [
      "51 Peg\n",
      "CoRoT-2\n",
      "HAT-P-1\n",
      "HAT-P-16\n",
      "HAT-P-2\n",
      "HATS-3\n",
      "HD 219828\n",
      "HD 75289\n",
      "Kepler-7\n",
      "Kepler-9\n",
      "Qatar-1\n",
      "Qatar-2\n",
      "tau Boo\n",
      "TrES-3\n",
      "WASP-104\n",
      "WASP-127\n",
      "WASP-131\n",
      "WASP-140\n",
      "WASP-2\n",
      "WASP-21\n",
      "WASP-28\n",
      "WASP-31\n",
      "WASP-37\n",
      "WASP-4\n",
      "WASP-43\n",
      "WASP-46\n",
      "WASP-50\n",
      "WASP-64\n"
     ]
    }
   ],
   "source": [
    "cloudy_transition = (1300 * u.K < teq) & (1700 * u.K > teq)\n",
    "\n",
    "print('\\n'.join(observed_planets[cloudy_transition]['pl_hostname'].data.data))"
   ]
  },
  {
   "cell_type": "code",
   "execution_count": null,
   "metadata": {},
   "outputs": [],
   "source": []
  }
 ],
 "metadata": {
  "kernelspec": {
   "display_name": "Python 3",
   "language": "python",
   "name": "python3"
  },
  "language_info": {
   "codemirror_mode": {
    "name": "ipython",
    "version": 3
   },
   "file_extension": ".py",
   "mimetype": "text/x-python",
   "name": "python",
   "nbconvert_exporter": "python",
   "pygments_lexer": "ipython3",
   "version": "3.7.3"
  }
 },
 "nbformat": 4,
 "nbformat_minor": 4
}
